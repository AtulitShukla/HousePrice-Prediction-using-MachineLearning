{
  "nbformat": 4,
  "nbformat_minor": 0,
  "metadata": {
    "colab": {
      "name": "HousePricing.ipynb",
      "provenance": [],
      "collapsed_sections": []
    },
    "kernelspec": {
      "name": "python3",
      "display_name": "Python 3"
    },
    "language_info": {
      "name": "python"
    }
  },
  "cells": [
    {
      "cell_type": "markdown",
      "metadata": {
        "id": "eB7854a-UAGO"
      },
      "source": [
        "# HOUSE PRICE PREDICTION USING LINEAR AND XGBOOST REGRESSION\n"
      ]
    },
    {
      "cell_type": "markdown",
      "metadata": {
        "id": "c9iP4An1_34Y"
      },
      "source": [
        "**IMPORTING DEPENDENCIES**"
      ]
    },
    {
      "cell_type": "code",
      "metadata": {
        "id": "cuMFf4rB_2V8"
      },
      "source": [
        "import pandas as pd\n",
        "import numpy as np\n",
        "import seaborn as sns\n",
        "import matplotlib.pyplot as plt \n",
        "from sklearn import metrics\n",
        "%matplotlib inline"
      ],
      "execution_count": 1,
      "outputs": []
    },
    {
      "cell_type": "markdown",
      "metadata": {
        "id": "2tAJYVGh_6aR"
      },
      "source": [
        "**IMPORTING DATASET**"
      ]
    },
    {
      "cell_type": "code",
      "metadata": {
        "colab": {
          "base_uri": "https://localhost:8080/",
          "height": 203
        },
        "id": "ZEoVyAyw_6n6",
        "outputId": "7499eb36-4a43-49f1-c7ef-3dc3b33d3319"
      },
      "source": [
        "df=pd.read_csv(\"HousingData.csv\")\n",
        "df.head()"
      ],
      "execution_count": 2,
      "outputs": [
        {
          "output_type": "execute_result",
          "data": {
            "text/html": [
              "<div>\n",
              "<style scoped>\n",
              "    .dataframe tbody tr th:only-of-type {\n",
              "        vertical-align: middle;\n",
              "    }\n",
              "\n",
              "    .dataframe tbody tr th {\n",
              "        vertical-align: top;\n",
              "    }\n",
              "\n",
              "    .dataframe thead th {\n",
              "        text-align: right;\n",
              "    }\n",
              "</style>\n",
              "<table border=\"1\" class=\"dataframe\">\n",
              "  <thead>\n",
              "    <tr style=\"text-align: right;\">\n",
              "      <th></th>\n",
              "      <th>CRIM</th>\n",
              "      <th>ZN</th>\n",
              "      <th>INDUS</th>\n",
              "      <th>CHAS</th>\n",
              "      <th>NOX</th>\n",
              "      <th>RM</th>\n",
              "      <th>AGE</th>\n",
              "      <th>DIS</th>\n",
              "      <th>RAD</th>\n",
              "      <th>TAX</th>\n",
              "      <th>PTRATIO</th>\n",
              "      <th>B</th>\n",
              "      <th>LSTAT</th>\n",
              "      <th>PRICE</th>\n",
              "    </tr>\n",
              "  </thead>\n",
              "  <tbody>\n",
              "    <tr>\n",
              "      <th>0</th>\n",
              "      <td>0.00632</td>\n",
              "      <td>18.0</td>\n",
              "      <td>2.31</td>\n",
              "      <td>0.0</td>\n",
              "      <td>0.538</td>\n",
              "      <td>6.575</td>\n",
              "      <td>65.2</td>\n",
              "      <td>4.0900</td>\n",
              "      <td>1</td>\n",
              "      <td>296</td>\n",
              "      <td>15.3</td>\n",
              "      <td>396.90</td>\n",
              "      <td>4.98</td>\n",
              "      <td>24.0</td>\n",
              "    </tr>\n",
              "    <tr>\n",
              "      <th>1</th>\n",
              "      <td>0.02731</td>\n",
              "      <td>0.0</td>\n",
              "      <td>7.07</td>\n",
              "      <td>0.0</td>\n",
              "      <td>0.469</td>\n",
              "      <td>6.421</td>\n",
              "      <td>78.9</td>\n",
              "      <td>4.9671</td>\n",
              "      <td>2</td>\n",
              "      <td>242</td>\n",
              "      <td>17.8</td>\n",
              "      <td>396.90</td>\n",
              "      <td>9.14</td>\n",
              "      <td>21.6</td>\n",
              "    </tr>\n",
              "    <tr>\n",
              "      <th>2</th>\n",
              "      <td>0.02729</td>\n",
              "      <td>0.0</td>\n",
              "      <td>7.07</td>\n",
              "      <td>0.0</td>\n",
              "      <td>0.469</td>\n",
              "      <td>7.185</td>\n",
              "      <td>61.1</td>\n",
              "      <td>4.9671</td>\n",
              "      <td>2</td>\n",
              "      <td>242</td>\n",
              "      <td>17.8</td>\n",
              "      <td>392.83</td>\n",
              "      <td>4.03</td>\n",
              "      <td>34.7</td>\n",
              "    </tr>\n",
              "    <tr>\n",
              "      <th>3</th>\n",
              "      <td>0.03237</td>\n",
              "      <td>0.0</td>\n",
              "      <td>2.18</td>\n",
              "      <td>0.0</td>\n",
              "      <td>0.458</td>\n",
              "      <td>6.998</td>\n",
              "      <td>45.8</td>\n",
              "      <td>6.0622</td>\n",
              "      <td>3</td>\n",
              "      <td>222</td>\n",
              "      <td>18.7</td>\n",
              "      <td>394.63</td>\n",
              "      <td>2.94</td>\n",
              "      <td>33.4</td>\n",
              "    </tr>\n",
              "    <tr>\n",
              "      <th>4</th>\n",
              "      <td>0.06905</td>\n",
              "      <td>0.0</td>\n",
              "      <td>2.18</td>\n",
              "      <td>0.0</td>\n",
              "      <td>0.458</td>\n",
              "      <td>7.147</td>\n",
              "      <td>54.2</td>\n",
              "      <td>6.0622</td>\n",
              "      <td>3</td>\n",
              "      <td>222</td>\n",
              "      <td>18.7</td>\n",
              "      <td>396.90</td>\n",
              "      <td>NaN</td>\n",
              "      <td>36.2</td>\n",
              "    </tr>\n",
              "  </tbody>\n",
              "</table>\n",
              "</div>"
            ],
            "text/plain": [
              "      CRIM    ZN  INDUS  CHAS    NOX  ...  TAX  PTRATIO       B  LSTAT  PRICE\n",
              "0  0.00632  18.0   2.31   0.0  0.538  ...  296     15.3  396.90   4.98   24.0\n",
              "1  0.02731   0.0   7.07   0.0  0.469  ...  242     17.8  396.90   9.14   21.6\n",
              "2  0.02729   0.0   7.07   0.0  0.469  ...  242     17.8  392.83   4.03   34.7\n",
              "3  0.03237   0.0   2.18   0.0  0.458  ...  222     18.7  394.63   2.94   33.4\n",
              "4  0.06905   0.0   2.18   0.0  0.458  ...  222     18.7  396.90    NaN   36.2\n",
              "\n",
              "[5 rows x 14 columns]"
            ]
          },
          "metadata": {
            "tags": []
          },
          "execution_count": 2
        }
      ]
    },
    {
      "cell_type": "markdown",
      "metadata": {
        "id": "VjKOBhs__65y"
      },
      "source": [
        ""
      ]
    },
    {
      "cell_type": "code",
      "metadata": {
        "colab": {
          "base_uri": "https://localhost:8080/"
        },
        "id": "0VKCnsvL_7EZ",
        "outputId": "35a735c7-addd-47a0-8cb6-b4dcfb2ace93"
      },
      "source": [
        "#Printing column names\n",
        "df.columns"
      ],
      "execution_count": 3,
      "outputs": [
        {
          "output_type": "execute_result",
          "data": {
            "text/plain": [
              "Index(['CRIM', 'ZN', 'INDUS', 'CHAS', 'NOX', 'RM', 'AGE', 'DIS', 'RAD', 'TAX',\n",
              "       'PTRATIO', 'B', 'LSTAT', 'PRICE'],\n",
              "      dtype='object')"
            ]
          },
          "metadata": {
            "tags": []
          },
          "execution_count": 3
        }
      ]
    },
    {
      "cell_type": "code",
      "metadata": {
        "colab": {
          "base_uri": "https://localhost:8080/"
        },
        "id": "xyGBz-Hm_7XM",
        "outputId": "44eb10ca-b272-472f-8944-62086d1e39be"
      },
      "source": [
        "df.shape"
      ],
      "execution_count": 4,
      "outputs": [
        {
          "output_type": "execute_result",
          "data": {
            "text/plain": [
              "(506, 14)"
            ]
          },
          "metadata": {
            "tags": []
          },
          "execution_count": 4
        }
      ]
    },
    {
      "cell_type": "markdown",
      "metadata": {
        "id": "WwAkNPgx_7g_"
      },
      "source": [
        "**CHECKING FOR MISSING OR NULL VALUES**"
      ]
    },
    {
      "cell_type": "code",
      "metadata": {
        "colab": {
          "base_uri": "https://localhost:8080/"
        },
        "id": "YjWQFLSp_7rG",
        "outputId": "21488689-58fd-4f25-8643-22f91c4979ff"
      },
      "source": [
        "df.isnull().sum()"
      ],
      "execution_count": 5,
      "outputs": [
        {
          "output_type": "execute_result",
          "data": {
            "text/plain": [
              "CRIM       20\n",
              "ZN         20\n",
              "INDUS      20\n",
              "CHAS       20\n",
              "NOX         0\n",
              "RM          0\n",
              "AGE        20\n",
              "DIS         0\n",
              "RAD         0\n",
              "TAX         0\n",
              "PTRATIO     0\n",
              "B           0\n",
              "LSTAT      20\n",
              "PRICE       0\n",
              "dtype: int64"
            ]
          },
          "metadata": {
            "tags": []
          },
          "execution_count": 5
        }
      ]
    },
    {
      "cell_type": "markdown",
      "metadata": {
        "id": "S-FhP2x6_73s"
      },
      "source": [
        "**REPLACING THE NUL VALUES WITH MEDIAN**"
      ]
    },
    {
      "cell_type": "code",
      "metadata": {
        "colab": {
          "base_uri": "https://localhost:8080/"
        },
        "id": "GDrESHr2_7-9",
        "outputId": "5345ae8f-73b3-4578-ff52-420260401fc3"
      },
      "source": [
        "for i in df:\n",
        "  if(df[i].isnull().sum()>0):\n",
        "    df[i].fillna(df[i].median(), inplace=True)\n",
        "\n",
        "df.isnull().sum()"
      ],
      "execution_count": 6,
      "outputs": [
        {
          "output_type": "execute_result",
          "data": {
            "text/plain": [
              "CRIM       0\n",
              "ZN         0\n",
              "INDUS      0\n",
              "CHAS       0\n",
              "NOX        0\n",
              "RM         0\n",
              "AGE        0\n",
              "DIS        0\n",
              "RAD        0\n",
              "TAX        0\n",
              "PTRATIO    0\n",
              "B          0\n",
              "LSTAT      0\n",
              "PRICE      0\n",
              "dtype: int64"
            ]
          },
          "metadata": {
            "tags": []
          },
          "execution_count": 6
        }
      ]
    },
    {
      "cell_type": "markdown",
      "metadata": {
        "id": "zNK0RNPc_8G4"
      },
      "source": [
        "**STATISTICAL ANALYSIS OF THE DATASET**"
      ]
    },
    {
      "cell_type": "code",
      "metadata": {
        "colab": {
          "base_uri": "https://localhost:8080/",
          "height": 315
        },
        "id": "fU6tvVxU_8N8",
        "outputId": "137838cf-1213-41a3-ea90-202f938b99ff"
      },
      "source": [
        "df.describe()"
      ],
      "execution_count": 7,
      "outputs": [
        {
          "output_type": "execute_result",
          "data": {
            "text/html": [
              "<div>\n",
              "<style scoped>\n",
              "    .dataframe tbody tr th:only-of-type {\n",
              "        vertical-align: middle;\n",
              "    }\n",
              "\n",
              "    .dataframe tbody tr th {\n",
              "        vertical-align: top;\n",
              "    }\n",
              "\n",
              "    .dataframe thead th {\n",
              "        text-align: right;\n",
              "    }\n",
              "</style>\n",
              "<table border=\"1\" class=\"dataframe\">\n",
              "  <thead>\n",
              "    <tr style=\"text-align: right;\">\n",
              "      <th></th>\n",
              "      <th>CRIM</th>\n",
              "      <th>ZN</th>\n",
              "      <th>INDUS</th>\n",
              "      <th>CHAS</th>\n",
              "      <th>NOX</th>\n",
              "      <th>RM</th>\n",
              "      <th>AGE</th>\n",
              "      <th>DIS</th>\n",
              "      <th>RAD</th>\n",
              "      <th>TAX</th>\n",
              "      <th>PTRATIO</th>\n",
              "      <th>B</th>\n",
              "      <th>LSTAT</th>\n",
              "      <th>PRICE</th>\n",
              "    </tr>\n",
              "  </thead>\n",
              "  <tbody>\n",
              "    <tr>\n",
              "      <th>count</th>\n",
              "      <td>506.000000</td>\n",
              "      <td>506.000000</td>\n",
              "      <td>506.000000</td>\n",
              "      <td>506.000000</td>\n",
              "      <td>506.000000</td>\n",
              "      <td>506.000000</td>\n",
              "      <td>506.000000</td>\n",
              "      <td>506.000000</td>\n",
              "      <td>506.000000</td>\n",
              "      <td>506.000000</td>\n",
              "      <td>506.000000</td>\n",
              "      <td>506.000000</td>\n",
              "      <td>506.000000</td>\n",
              "      <td>506.000000</td>\n",
              "    </tr>\n",
              "    <tr>\n",
              "      <th>mean</th>\n",
              "      <td>3.479140</td>\n",
              "      <td>10.768775</td>\n",
              "      <td>11.028893</td>\n",
              "      <td>0.067194</td>\n",
              "      <td>0.554695</td>\n",
              "      <td>6.284634</td>\n",
              "      <td>68.845850</td>\n",
              "      <td>3.795043</td>\n",
              "      <td>9.549407</td>\n",
              "      <td>408.237154</td>\n",
              "      <td>18.455534</td>\n",
              "      <td>356.674032</td>\n",
              "      <td>12.664625</td>\n",
              "      <td>22.532806</td>\n",
              "    </tr>\n",
              "    <tr>\n",
              "      <th>std</th>\n",
              "      <td>8.570832</td>\n",
              "      <td>23.025124</td>\n",
              "      <td>6.704679</td>\n",
              "      <td>0.250605</td>\n",
              "      <td>0.115878</td>\n",
              "      <td>0.702617</td>\n",
              "      <td>27.486962</td>\n",
              "      <td>2.105710</td>\n",
              "      <td>8.707259</td>\n",
              "      <td>168.537116</td>\n",
              "      <td>2.164946</td>\n",
              "      <td>91.294864</td>\n",
              "      <td>7.017219</td>\n",
              "      <td>9.197104</td>\n",
              "    </tr>\n",
              "    <tr>\n",
              "      <th>min</th>\n",
              "      <td>0.006320</td>\n",
              "      <td>0.000000</td>\n",
              "      <td>0.460000</td>\n",
              "      <td>0.000000</td>\n",
              "      <td>0.385000</td>\n",
              "      <td>3.561000</td>\n",
              "      <td>2.900000</td>\n",
              "      <td>1.129600</td>\n",
              "      <td>1.000000</td>\n",
              "      <td>187.000000</td>\n",
              "      <td>12.600000</td>\n",
              "      <td>0.320000</td>\n",
              "      <td>1.730000</td>\n",
              "      <td>5.000000</td>\n",
              "    </tr>\n",
              "    <tr>\n",
              "      <th>25%</th>\n",
              "      <td>0.083235</td>\n",
              "      <td>0.000000</td>\n",
              "      <td>5.190000</td>\n",
              "      <td>0.000000</td>\n",
              "      <td>0.449000</td>\n",
              "      <td>5.885500</td>\n",
              "      <td>45.925000</td>\n",
              "      <td>2.100175</td>\n",
              "      <td>4.000000</td>\n",
              "      <td>279.000000</td>\n",
              "      <td>17.400000</td>\n",
              "      <td>375.377500</td>\n",
              "      <td>7.230000</td>\n",
              "      <td>17.025000</td>\n",
              "    </tr>\n",
              "    <tr>\n",
              "      <th>50%</th>\n",
              "      <td>0.253715</td>\n",
              "      <td>0.000000</td>\n",
              "      <td>9.690000</td>\n",
              "      <td>0.000000</td>\n",
              "      <td>0.538000</td>\n",
              "      <td>6.208500</td>\n",
              "      <td>76.800000</td>\n",
              "      <td>3.207450</td>\n",
              "      <td>5.000000</td>\n",
              "      <td>330.000000</td>\n",
              "      <td>19.050000</td>\n",
              "      <td>391.440000</td>\n",
              "      <td>11.430000</td>\n",
              "      <td>21.200000</td>\n",
              "    </tr>\n",
              "    <tr>\n",
              "      <th>75%</th>\n",
              "      <td>2.808720</td>\n",
              "      <td>0.000000</td>\n",
              "      <td>18.100000</td>\n",
              "      <td>0.000000</td>\n",
              "      <td>0.624000</td>\n",
              "      <td>6.623500</td>\n",
              "      <td>93.575000</td>\n",
              "      <td>5.188425</td>\n",
              "      <td>24.000000</td>\n",
              "      <td>666.000000</td>\n",
              "      <td>20.200000</td>\n",
              "      <td>396.225000</td>\n",
              "      <td>16.570000</td>\n",
              "      <td>25.000000</td>\n",
              "    </tr>\n",
              "    <tr>\n",
              "      <th>max</th>\n",
              "      <td>88.976200</td>\n",
              "      <td>100.000000</td>\n",
              "      <td>27.740000</td>\n",
              "      <td>1.000000</td>\n",
              "      <td>0.871000</td>\n",
              "      <td>8.780000</td>\n",
              "      <td>100.000000</td>\n",
              "      <td>12.126500</td>\n",
              "      <td>24.000000</td>\n",
              "      <td>711.000000</td>\n",
              "      <td>22.000000</td>\n",
              "      <td>396.900000</td>\n",
              "      <td>37.970000</td>\n",
              "      <td>50.000000</td>\n",
              "    </tr>\n",
              "  </tbody>\n",
              "</table>\n",
              "</div>"
            ],
            "text/plain": [
              "             CRIM          ZN       INDUS  ...           B       LSTAT       PRICE\n",
              "count  506.000000  506.000000  506.000000  ...  506.000000  506.000000  506.000000\n",
              "mean     3.479140   10.768775   11.028893  ...  356.674032   12.664625   22.532806\n",
              "std      8.570832   23.025124    6.704679  ...   91.294864    7.017219    9.197104\n",
              "min      0.006320    0.000000    0.460000  ...    0.320000    1.730000    5.000000\n",
              "25%      0.083235    0.000000    5.190000  ...  375.377500    7.230000   17.025000\n",
              "50%      0.253715    0.000000    9.690000  ...  391.440000   11.430000   21.200000\n",
              "75%      2.808720    0.000000   18.100000  ...  396.225000   16.570000   25.000000\n",
              "max     88.976200  100.000000   27.740000  ...  396.900000   37.970000   50.000000\n",
              "\n",
              "[8 rows x 14 columns]"
            ]
          },
          "metadata": {
            "tags": []
          },
          "execution_count": 7
        }
      ]
    },
    {
      "cell_type": "markdown",
      "metadata": {
        "id": "nCxwxQ51_8W8"
      },
      "source": [
        "**UNDERSTANDING THE CORRELATION BETWEEN VARIOUS FEATURES OF THE DATASET THOUGH HEAT MAP** "
      ]
    },
    {
      "cell_type": "code",
      "metadata": {
        "colab": {
          "base_uri": "https://localhost:8080/",
          "height": 882
        },
        "id": "oNaoa7og_8fF",
        "outputId": "407c9266-5d15-47f0-e897-719dc999b8ab"
      },
      "source": [
        "s=df.corr()\n",
        "print(s)\n",
        "plt.figure(figsize=(10,10))\n",
        "corr_features = s.index\n",
        "g=sns.heatmap(df[corr_features].corr(),annot=True,cmap=\"BuPu\")"
      ],
      "execution_count": 8,
      "outputs": [
        {
          "output_type": "stream",
          "text": [
            "             CRIM        ZN     INDUS  ...         B     LSTAT     PRICE\n",
            "CRIM     1.000000 -0.185359  0.392632  ... -0.365336  0.437417 -0.383895\n",
            "ZN      -0.185359  1.000000 -0.507304  ...  0.170125 -0.398838  0.362292\n",
            "INDUS    0.392632 -0.507304  1.000000  ... -0.354840  0.564508 -0.476394\n",
            "CHAS    -0.055585 -0.032992  0.054693  ...  0.050608 -0.047279  0.183844\n",
            "NOX      0.410971 -0.498619  0.738387  ... -0.380051  0.573040 -0.427321\n",
            "RM      -0.220045  0.312295 -0.377978  ...  0.128069 -0.604323  0.695360\n",
            "AGE      0.343427 -0.535341  0.614248  ... -0.268029  0.575022 -0.377572\n",
            "DIS     -0.366025  0.632428 -0.698621  ...  0.291512 -0.483244  0.249929\n",
            "RAD      0.601224 -0.300061  0.592735  ... -0.444413  0.467765 -0.381626\n",
            "TAX      0.560469 -0.304385  0.716267  ... -0.441808  0.524156 -0.468536\n",
            "PTRATIO  0.277964 -0.394622  0.385366  ... -0.177383  0.370727 -0.507787\n",
            "B       -0.365336  0.170125 -0.354840  ...  1.000000 -0.370993  0.333461\n",
            "LSTAT    0.437417 -0.398838  0.564508  ... -0.370993  1.000000 -0.723093\n",
            "PRICE   -0.383895  0.362292 -0.476394  ...  0.333461 -0.723093  1.000000\n",
            "\n",
            "[14 rows x 14 columns]\n"
          ],
          "name": "stdout"
        },
        {
          "output_type": "display_data",
          "data": {
            "image/png": "[encoded data removed]",
            "text/plain": [
              "<Figure size 720x720 with 2 Axes>"
            ]
          },
          "metadata": {
            "tags": [],
            "needs_background": "light"
          }
        }
      ]
    },
    {
      "cell_type": "markdown",
      "metadata": {
        "id": "VaJVNXh3LPoU"
      },
      "source": [
        "**SPLITTING DATA**"
      ]
    },
    {
      "cell_type": "code",
      "metadata": {
        "id": "izUZtnVELP-_"
      },
      "source": [
        "X = df.drop(['PRICE'], axis=1)\n",
        "Y = df['PRICE']"
      ],
      "execution_count": 9,
      "outputs": []
    },
    {
      "cell_type": "code",
      "metadata": {
        "colab": {
          "base_uri": "https://localhost:8080/"
        },
        "id": "8lWx8_rTNHYo",
        "outputId": "3ed493e1-f385-4278-fc73-cc97ab47dd29"
      },
      "source": [
        "print(X)\n",
        "print(Y)"
      ],
      "execution_count": 10,
      "outputs": [
        {
          "output_type": "stream",
          "text": [
            "        CRIM    ZN  INDUS  CHAS    NOX  ...  RAD  TAX  PTRATIO       B  LSTAT\n",
            "0    0.00632  18.0   2.31   0.0  0.538  ...    1  296     15.3  396.90   4.98\n",
            "1    0.02731   0.0   7.07   0.0  0.469  ...    2  242     17.8  396.90   9.14\n",
            "2    0.02729   0.0   7.07   0.0  0.469  ...    2  242     17.8  392.83   4.03\n",
            "3    0.03237   0.0   2.18   0.0  0.458  ...    3  222     18.7  394.63   2.94\n",
            "4    0.06905   0.0   2.18   0.0  0.458  ...    3  222     18.7  396.90  11.43\n",
            "..       ...   ...    ...   ...    ...  ...  ...  ...      ...     ...    ...\n",
            "501  0.06263   0.0  11.93   0.0  0.573  ...    1  273     21.0  391.99  11.43\n",
            "502  0.04527   0.0  11.93   0.0  0.573  ...    1  273     21.0  396.90   9.08\n",
            "503  0.06076   0.0  11.93   0.0  0.573  ...    1  273     21.0  396.90   5.64\n",
            "504  0.10959   0.0  11.93   0.0  0.573  ...    1  273     21.0  393.45   6.48\n",
            "505  0.04741   0.0  11.93   0.0  0.573  ...    1  273     21.0  396.90   7.88\n",
            "\n",
            "[506 rows x 13 columns]\n",
            "0      24.0\n",
            "1      21.6\n",
            "2      34.7\n",
            "3      33.4\n",
            "4      36.2\n",
            "       ... \n",
            "501    22.4\n",
            "502    20.6\n",
            "503    23.9\n",
            "504    22.0\n",
            "505    11.9\n",
            "Name: PRICE, Length: 506, dtype: float64\n"
          ],
          "name": "stdout"
        }
      ]
    },
    {
      "cell_type": "markdown",
      "metadata": {
        "id": "DBIald9YLZI_"
      },
      "source": [
        "**SPLITTING THE DATA INTO TESTING AND TRAINING DATA**"
      ]
    },
    {
      "cell_type": "code",
      "metadata": {
        "id": "d-vGpV9HLZlQ"
      },
      "source": [
        "from sklearn.model_selection import train_test_split\n",
        "X_train, X_test, Y_train, Y_test = train_test_split(X, Y, test_size = 0.2)"
      ],
      "execution_count": 11,
      "outputs": []
    },
    {
      "cell_type": "markdown",
      "metadata": {
        "id": "c25heveCLlSd"
      },
      "source": [
        ""
      ]
    },
    {
      "cell_type": "code",
      "metadata": {
        "colab": {
          "base_uri": "https://localhost:8080/"
        },
        "id": "ueUm112TLllF",
        "outputId": "e7179f72-42ee-4dcf-cbd0-2aee77dcd4ad"
      },
      "source": [
        "print(X.shape, X_train.shape, X_test.shape)"
      ],
      "execution_count": 12,
      "outputs": [
        {
          "output_type": "stream",
          "text": [
            "(506, 13) (404, 13) (102, 13)\n"
          ],
          "name": "stdout"
        }
      ]
    },
    {
      "cell_type": "markdown",
      "metadata": {
        "id": "Yhey94NGLs4P"
      },
      "source": [
        "**1) FOR LINEAR REGRESSON**"
      ]
    },
    {
      "cell_type": "code",
      "metadata": {
        "colab": {
          "base_uri": "https://localhost:8080/"
        },
        "id": "fMDIbNv7LtZi",
        "outputId": "e4c19025-63a5-458b-ec90-75cef58e05cd"
      },
      "source": [
        "from sklearn.linear_model import LinearRegression\n",
        "model=LinearRegression()\n",
        "model.fit(X_train,Y_train)"
      ],
      "execution_count": 13,
      "outputs": [
        {
          "output_type": "execute_result",
          "data": {
            "text/plain": [
              "LinearRegression(copy_X=True, fit_intercept=True, n_jobs=None, normalize=False)"
            ]
          },
          "metadata": {
            "tags": []
          },
          "execution_count": 13
        }
      ]
    },
    {
      "cell_type": "code",
      "metadata": {
        "colab": {
          "base_uri": "https://localhost:8080/"
        },
        "id": "gGOCQqjkRNiq",
        "outputId": "cbb1687e-fcad-4068-ea8c-c71790596b8d"
      },
      "source": [
        "#PREDICTION ON TRAINING DATA\n",
        "training_pred=model.predict(X_train)\n",
        "training_pred"
      ],
      "execution_count": 14,
      "outputs": [
        {
          "output_type": "execute_result",
          "data": {
            "text/plain": [
              "array([23.88836455, 17.3923592 , 22.13362487, 42.8133064 , 21.89562646,\n",
              "       18.11213261, 20.9416109 , 31.48699698, 14.03628422, 24.86244282,\n",
              "       30.29804986, 31.27441849, 27.78398596, 26.96469201, 22.74717729,\n",
              "       18.89082215, 23.06004172, 23.41736651, 24.99925676, 12.25289563,\n",
              "       31.90724471, 14.62057125, 13.61722744, 17.67100463, 28.11340044,\n",
              "       23.08059951, 41.10394567, -3.29635481, 19.18089515, 17.2314418 ,\n",
              "       24.29040701, 20.44993869, 18.65670392, 13.79713974, 24.04209665,\n",
              "       35.99837216, 36.31661657,  6.46357151, 32.27241991, 21.68100705,\n",
              "       26.17604242, 24.84008869, 32.6921797 , 17.17225364, 17.83880006,\n",
              "       20.35327476, 29.91761039, 33.52463783, 15.92183001, 23.15965308,\n",
              "       21.38204349, 14.16560592, 14.21718745, 15.35118121, 10.69865011,\n",
              "       24.77881816, 13.48854849, 20.17917761, 20.71077322, 33.74857673,\n",
              "       23.82788153, 27.91908368, 36.74722497, 12.79158604, 36.55691945,\n",
              "       31.07557823, 14.33414493, 20.77797509, 30.6578559 , 21.18438704,\n",
              "       23.48525032, 33.47342403, 12.65197849, 30.55149558, 37.91933482,\n",
              "       22.47309804, 13.1827607 , 27.57509774, 24.27356704, 32.50893465,\n",
              "       23.07100009, 25.00624072, 17.15560958, 15.58420878, 32.32258578,\n",
              "       14.8883639 , 19.48954258, 28.55493702, 21.83805983, 30.034466  ,\n",
              "       18.79506505, 11.66428204, 41.89359017, 33.5000227 , 14.03620521,\n",
              "       14.32359345, 14.30541103, 29.15436143, 44.02995345, 18.14651224,\n",
              "       16.28478911, 20.22327973, 12.38146113, 16.77086237, 43.08360822,\n",
              "       16.63832969, 17.36370455, 29.83726995, 35.31899844, 36.34779343,\n",
              "       21.4873491 , 35.12371961, 11.1638107 , 33.27725119, 20.61575339,\n",
              "       24.56333962,  7.28181156, 11.92014837, 24.40747974, 24.45456767,\n",
              "       28.6598552 , 24.60148648, 17.63089128, 23.77958913, 30.65675249,\n",
              "       24.87142642, 13.01613053,  6.60326761, 32.8138802 , 33.44569394,\n",
              "       22.05637988, 21.22188145, 22.98510527, 39.43819064, 18.75299137,\n",
              "       21.67453838, 25.08981834,  2.27090134, 18.14636323, 18.09025675,\n",
              "       34.16616096, 14.17254917, 32.19441759, 17.93194044,  6.66857894,\n",
              "       19.54509498, 15.21222707, 30.67362356, 13.07890091, 22.36894017,\n",
              "       16.87174125, 17.16368917, 22.55385385, 15.66849218, 18.45809875,\n",
              "       32.59082248, 27.21775114, 21.17868084, 20.87629609, 14.00498914,\n",
              "       25.15252577,  9.09504235, 21.9189182 ,  9.03899721, 13.8367684 ,\n",
              "       16.03497913, 14.15450358, 29.98220557, 25.3639093 , 18.38312416,\n",
              "       28.81826622, 26.89471564, 24.14702808, 22.35379259, 19.74688364,\n",
              "       18.87913607, 14.74768828, 34.86615421, 23.4516073 , 19.19679683,\n",
              "       28.38558733, 17.41418231, 16.44388287, 19.5793643 , 23.23740206,\n",
              "       20.52792612, 15.55324891, 23.71633803, 21.66660942, 17.32702575,\n",
              "       16.20230264, 24.50428233, 18.04836076, 26.73374964, 17.99445016,\n",
              "       33.69575254, 20.22748435, 15.6677623 , 20.87936609, 31.56040265,\n",
              "       26.20468751, 25.15622968, 16.88370922, 12.30402019, 18.30890948,\n",
              "       25.25636997, 20.6162099 , 30.25068481, 26.29307496, 31.20151372,\n",
              "       25.2363385 , 19.868065  , 22.78054441, 19.74394047, 36.22898347,\n",
              "       15.36706388, 17.85865205, 21.45875491, 35.59584434, 31.44546923,\n",
              "       32.11027474,  8.23834622, 12.64763939, 25.02535786, 15.38633231,\n",
              "       19.4976139 , 27.2757335 , 29.3641148 , 24.89020895, 12.72952669,\n",
              "       37.6763907 , 31.13345516, 10.17500676, 18.53686728,  6.0638458 ,\n",
              "       27.94189522, 23.33320645, 25.78415034,  1.17287214, 25.34338145,\n",
              "       17.47052654, 33.75330928, 41.25048715, 11.43049705,  7.08191155,\n",
              "       31.88840497, 27.2110209 , 21.40379943, 20.34969955, 16.86628777,\n",
              "       18.1513666 , 21.28437323, 39.17433872, 25.17566631, 16.84895034,\n",
              "       25.48804321, 23.75260426, 16.19951988, 27.52235547, 35.07084179,\n",
              "       24.87329874, 24.07860444, 22.83381306, 19.02231591, 31.08831638,\n",
              "        7.9830218 , 36.08799632, 13.2888571 , 20.8651067 , 35.0591993 ,\n",
              "       22.52872825, 19.10406146, 18.81058134, 17.90999153, 45.59069985,\n",
              "       22.65579149, 22.7728954 , 22.86175175, 22.01167638,  6.97871699,\n",
              "       18.02155989, 11.4061217 , 40.54517806,  8.40674547, 26.69770284,\n",
              "       18.85313385,  8.90511297, 20.08417911, 22.79517381,  8.60457083,\n",
              "       19.35522896, 21.05474356, 26.01099482, 20.09137821, 21.30021859,\n",
              "       19.31324957, 20.48737224, 24.45513123, 20.84960997, 41.88549375,\n",
              "       32.00479798, 25.26105927, 27.22788989, 21.54175632, 18.84512812,\n",
              "       21.43172077, 20.65552555, 25.24858426, 14.48159167, 22.33426099,\n",
              "       20.64989502, 24.1131045 , 30.74111796, 15.31827142, 13.77714393,\n",
              "       17.86629703, 30.90487578, 24.48217584,  9.31038199, 22.35904839,\n",
              "       20.50117219, 22.33740665, 27.3570617 , 27.84988782, 20.43192911,\n",
              "       24.6405007 , 15.21779813, 28.01800512, 16.99312916, 17.01134613,\n",
              "       26.46010001, 20.18395173, 30.96461533, 16.42260439, 26.06858284,\n",
              "       21.64732939, 37.30590007, 27.49878116, 32.90974483, 15.65241847,\n",
              "       24.27323912, 38.75376301, 32.00720609, 28.10322368, 19.41725136,\n",
              "       20.77978732, 20.21389993, 30.66562611, 32.50988118, 29.17683762,\n",
              "       23.43783433, 13.81428667, 24.50738583, 25.0562401 , 19.61798977,\n",
              "       17.76003637, 27.53632758, 22.62372042, 25.13891637, 20.98623873,\n",
              "       28.76535259, 26.73160938, 19.98916755, 10.1325135 ,  4.76778774,\n",
              "       17.04590895, 28.41307102, 32.7383976 , 19.83478869, 37.18135971,\n",
              "       27.571816  , 34.26032997, 22.09386073, 24.67851002, 17.60885922,\n",
              "       27.89014725, 26.10634964, 21.12926165, 17.10169137, 20.42248317,\n",
              "       37.17018921, 15.67750543, 13.610409  , 12.97520321, 38.41519608,\n",
              "       19.88385543, 18.83810054, 28.27995521, 18.17912935, 32.47127514,\n",
              "       11.94148695, 27.70680861, 19.00003961, 10.75952012, 20.39584659,\n",
              "       30.65349497, 13.38062271, 18.63130886, 28.88776001, 17.29144769,\n",
              "       36.43994556, 16.16454665, 15.52961353, 19.6549517 ])"
            ]
          },
          "metadata": {
            "tags": []
          },
          "execution_count": 14
        }
      ]
    },
    {
      "cell_type": "code",
      "metadata": {
        "colab": {
          "base_uri": "https://localhost:8080/"
        },
        "id": "DtShtPDKZNuD",
        "outputId": "6ef800d7-13ca-4b17-8901-76b4c5626e65"
      },
      "source": [
        "print('R squared error: ', metrics.r2_score(Y_train, training_pred))"
      ],
      "execution_count": 15,
      "outputs": [
        {
          "output_type": "stream",
          "text": [
            "R squared error:  0.7422159911282813\n"
          ],
          "name": "stdout"
        }
      ]
    },
    {
      "cell_type": "code",
      "metadata": {
        "colab": {
          "base_uri": "https://localhost:8080/",
          "height": 295
        },
        "id": "BsjvZFX-SZ4r",
        "outputId": "9647fe13-4037-42bd-8317-48ddbbd76830"
      },
      "source": [
        "plt.scatter(Y_train, training_pred)\n",
        "plt.xlabel(\"Actual Prices\")\n",
        "plt.ylabel(\"Predicted Prices\")\n",
        "plt.title(\"Actual Price vs Predicted Price\")\n",
        "plt.show()"
      ],
      "execution_count": 16,
      "outputs": [
        {
          "output_type": "display_data",
          "data": {
            "image/png": "[encoded data removed]",
            "text/plain": [
              "<Figure size 432x288 with 1 Axes>"
            ]
          },
          "metadata": {
            "tags": [],
            "needs_background": "light"
          }
        }
      ]
    },
    {
      "cell_type": "code",
      "metadata": {
        "colab": {
          "base_uri": "https://localhost:8080/"
        },
        "id": "oo2XJueuT3go",
        "outputId": "e8f104a5-a3f7-4684-8c62-15cc3443a6cc"
      },
      "source": [
        "#PREDICTION ON TESTING DATA\n",
        "test_pred=model.predict(X_test)\n",
        "test_pred"
      ],
      "execution_count": 17,
      "outputs": [
        {
          "output_type": "execute_result",
          "data": {
            "text/plain": [
              "array([37.59390794, 18.91523586, 25.73318149, 25.06634435, 21.22649421,\n",
              "       35.80920553, 23.52271236, 22.27214987, 13.97432193, 15.92964368,\n",
              "        9.43957825, 28.02117517, 19.45734993, 19.62464158, 40.77045454,\n",
              "       16.85788979, 17.42844951, 33.05663856, 24.12742324, 24.80545268,\n",
              "       16.84343365, 22.61439043, 20.26523264, 15.65014094, 10.56653666,\n",
              "       12.24988738, 17.36432558, 25.27384798, 33.0440625 , 29.16499172,\n",
              "       41.61968743, 34.5003576 , 26.08676495, 22.65976646, 16.56957654,\n",
              "       22.72217182, 32.90673963, 20.43253133, 14.36571406, 23.79466759,\n",
              "       21.5908405 , 21.30401295, 18.62669064, 25.02835201, 13.5996717 ,\n",
              "       20.76149429, 16.98862879, 15.25334376, 20.4943804 , 17.74432038,\n",
              "       18.97271118, 17.32653702, 13.55287009, 28.65584473, 20.97933016,\n",
              "       24.7850251 , 23.33026813, 21.80905342, 16.05030296, 18.55903795,\n",
              "       20.85929436, 25.81868189, 10.37273602, 31.870919  , 21.06235634,\n",
              "       21.75047201, 13.85660192, 29.91717306, 24.3799803 , 12.38183208,\n",
              "       21.15600152, 26.73719108, 24.43440742, 15.17818773, 35.17190918,\n",
              "       19.13932743, 24.26836769, 32.25896442, 19.57070902, 35.97603975,\n",
              "       22.21658892, 20.21622177, 21.1083289 , 25.42725511,  4.7958628 ,\n",
              "        3.08249429, 12.53309261,  5.82059051, 17.64083226, 16.50152126,\n",
              "       27.4444144 , 25.24075587, 22.52013271, 28.00195683, 19.64362744,\n",
              "       18.6985359 , 30.89560884, 24.84675581, 12.6856927 , 33.49477523,\n",
              "       20.82857537,  6.14944205])"
            ]
          },
          "metadata": {
            "tags": []
          },
          "execution_count": 17
        }
      ]
    },
    {
      "cell_type": "code",
      "metadata": {
        "colab": {
          "base_uri": "https://localhost:8080/"
        },
        "id": "hCc77wOkg5qi",
        "outputId": "61b71e28-0f83-43c9-cecd-ea021089784c"
      },
      "source": [
        "print('R squared error: ', metrics.r2_score(Y_test, test_pred))"
      ],
      "execution_count": 18,
      "outputs": [
        {
          "output_type": "stream",
          "text": [
            "R squared error:  0.6779916827458308\n"
          ],
          "name": "stdout"
        }
      ]
    },
    {
      "cell_type": "markdown",
      "metadata": {
        "id": "8SmPAuEyTtVx"
      },
      "source": [
        "**2) XGBOOST REGRESSION**"
      ]
    },
    {
      "cell_type": "code",
      "metadata": {
        "id": "Qgj_57pmTt1z",
        "colab": {
          "base_uri": "https://localhost:8080/"
        },
        "outputId": "156b3ae6-ac3e-44e0-9e33-93c8d94bf1e6"
      },
      "source": [
        "from xgboost import XGBRegressor\n",
        "model=XGBRegressor()\n",
        "model.fit(X_train,Y_train)"
      ],
      "execution_count": 19,
      "outputs": [
        {
          "output_type": "stream",
          "text": [
            "[15:31:07] WARNING: /workspace/src/objective/regression_obj.cu:152: reg:linear is now deprecated in favor of reg:squarederror.\n"
          ],
          "name": "stdout"
        },
        {
          "output_type": "execute_result",
          "data": {
            "text/plain": [
              "XGBRegressor(base_score=0.5, booster='gbtree', colsample_bylevel=1,\n",
              "             colsample_bynode=1, colsample_bytree=1, gamma=0,\n",
              "             importance_type='gain', learning_rate=0.1, max_delta_step=0,\n",
              "             max_depth=3, min_child_weight=1, missing=None, n_estimators=100,\n",
              "             n_jobs=1, nthread=None, objective='reg:linear', random_state=0,\n",
              "             reg_alpha=0, reg_lambda=1, scale_pos_weight=1, seed=None,\n",
              "             silent=None, subsample=1, verbosity=1)"
            ]
          },
          "metadata": {
            "tags": []
          },
          "execution_count": 19
        }
      ]
    },
    {
      "cell_type": "code",
      "metadata": {
        "colab": {
          "base_uri": "https://localhost:8080/"
        },
        "id": "7OgIF4jZY2CQ",
        "outputId": "93b78c5f-108c-4d5a-df7e-cbda40d08e9d"
      },
      "source": [
        "#PREDICTION ON TRAINING DATA\n",
        "training_pred=model.predict(X_train)\n",
        "training_pred"
      ],
      "execution_count": 20,
      "outputs": [
        {
          "output_type": "execute_result",
          "data": {
            "text/plain": [
              "array([21.098639 , 19.952658 , 20.407806 , 49.104588 , 20.730415 ,\n",
              "       12.649908 , 21.352041 , 28.809153 , 14.493869 , 25.753323 ,\n",
              "       33.028    , 31.86131  , 26.383204 , 22.575277 , 20.813164 ,\n",
              "       17.781336 , 22.668922 , 20.573744 , 23.945946 , 14.209188 ,\n",
              "       33.278053 , 16.181292 , 10.202014 ,  9.860999 , 25.255396 ,\n",
              "       20.011005 , 48.86129  ,  7.8559976, 20.099464 , 20.92064  ,\n",
              "       24.260687 , 21.211563 , 26.838144 , 17.910303 , 23.151634 ,\n",
              "       33.656338 , 49.357857 ,  9.268283 , 31.863937 , 20.496695 ,\n",
              "       20.92253  , 23.474306 , 33.446323 , 21.790228 , 19.34201  ,\n",
              "       19.45043  , 27.474813 , 35.5471   , 17.588625 , 21.217463 ,\n",
              "       21.434965 , 15.3794   , 14.949134 , 13.3925705,  8.237669 ,\n",
              "       48.68019  , 14.861642 , 16.408337 , 22.065609 , 30.138237 ,\n",
              "       22.314856 , 25.248041 , 34.470192 , 13.941586 , 38.9663   ,\n",
              "       26.734911 ,  9.572781 , 19.2623   , 27.585045 , 16.37247  ,\n",
              "       21.480791 , 50.371723 , 11.170512 , 28.34387  , 22.672943 ,\n",
              "       20.209257 , 15.162278 , 22.241917 , 21.990429 , 30.594257 ,\n",
              "       17.797483 , 21.815424 , 14.818868 , 15.310349 , 31.562368 ,\n",
              "       15.039639 , 19.109224 , 25.602966 , 21.062132 , 27.470915 ,\n",
              "       18.638441 ,  9.946325 , 48.13454  , 38.216534 , 12.83055  ,\n",
              "       18.084723 ,  9.91093  , 24.083307 , 49.737934 , 18.851023 ,\n",
              "       10.087025 , 20.609497 , 10.916373 , 16.717072 , 48.96664  ,\n",
              "       16.755898 , 16.071337 , 23.218224 , 34.554966 , 36.895912 ,\n",
              "       22.926462 , 33.281536 , 14.667548 , 33.0638   , 20.17766  ,\n",
              "       23.291248 ,  6.6466494, 15.332011 , 25.766592 , 23.291248 ,\n",
              "       33.853928 , 21.534414 , 18.379353 , 21.747147 , 27.551344 ,\n",
              "       23.026035 , 10.962394 , 13.688731 , 28.892286 , 35.594524 ,\n",
              "       20.10843  , 21.47747  , 20.372152 , 46.823433 , 17.490614 ,\n",
              "       21.371796 , 22.818825 , 15.190238 , 18.433706 , 16.97689  ,\n",
              "       34.686043 , 15.962163 , 28.611528 , 15.992607 ,  8.676098 ,\n",
              "       17.054626 , 15.481031 , 30.925472 , 14.735504 , 21.8104   ,\n",
              "       15.4434395, 15.173601 , 20.754112 , 19.157387 , 18.735415 ,\n",
              "       39.463085 , 24.726505 , 22.031204 , 20.311256 , 16.275925 ,\n",
              "       23.032701 , 13.88614  , 21.53478  , 13.279018 , 14.838758 ,\n",
              "       18.736822 , 14.352431 , 25.666685 , 25.084837 , 17.523058 ,\n",
              "       26.77231  , 23.155037 , 22.410683 , 20.108862 , 20.817911 ,\n",
              "       20.051994 , 14.37923  , 32.950466 , 47.095978 , 17.003853 ,\n",
              "       31.367022 , 19.152294 , 15.259195 , 20.837854 , 21.460588 ,\n",
              "       26.415464 , 15.427513 , 22.442566 , 20.408693 , 18.00969  ,\n",
              "       16.494957 , 21.823483 , 16.303312 , 24.459917 , 17.998957 ,\n",
              "       31.19239  , 19.926392 , 14.757413 , 17.067657 , 28.30315  ,\n",
              "       23.19707  , 14.877763 , 13.311904 , 13.202524 , 14.144069 ,\n",
              "       31.96495  , 19.261131 , 30.252213 , 23.591364 , 41.410625 ,\n",
              "       22.991371 , 18.655256 , 21.983927 , 17.971756 , 49.49239  ,\n",
              "       15.849255 , 19.604511 , 21.434261 , 31.945496 , 34.05491  ,\n",
              "       30.903727 , 21.132107 , 14.896234 , 21.870787 , 10.522013 ,\n",
              "       17.29851  , 25.359125 , 26.843449 , 26.808582 , 20.730501 ,\n",
              "       43.275917 , 33.02208  , 13.8441305, 17.47584  ,  7.711331 ,\n",
              "       22.794195 , 22.073359 , 23.189848 , 14.188466 , 28.161295 ,\n",
              "       19.084581 , 28.498669 , 46.307076 , 10.4199   ,  9.450429 ,\n",
              "       45.87594  , 22.781303 , 19.969587 , 18.9282   , 16.3591   ,\n",
              "       17.691778 , 20.967703 , 45.94126  , 24.798845 , 16.716908 ,\n",
              "       20.381712 , 21.841911 , 13.250874 , 25.92066  , 34.88008  ,\n",
              "       24.004354 , 22.338993 , 17.380424 , 13.878783 , 29.961256 ,\n",
              "        7.767945 , 33.24835  , 17.060762 , 20.998251 , 33.298973 ,\n",
              "       20.393845 , 14.867419 , 15.776754 , 19.59111  , 49.55372  ,\n",
              "       21.887852 , 20.041447 , 20.353703 , 20.203737 , 11.84406  ,\n",
              "       17.770245 , 12.646049 , 47.805897 ,  7.810567 , 24.349842 ,\n",
              "       14.967908 , 10.10698  , 22.39928  , 22.692263 ,  7.404462 ,\n",
              "       19.718872 , 22.265108 , 22.656033 , 20.012623 , 19.997583 ,\n",
              "       16.0795   , 13.197105 , 22.088684 , 21.24763  , 46.01833  ,\n",
              "       29.010658 , 19.26134  , 23.6121   , 25.085781 , 20.561398 ,\n",
              "       20.307138 , 19.017738 , 24.0822   , 15.4921255, 22.082773 ,\n",
              "       21.10962  , 32.34932  , 28.774776 ,  8.944325 , 11.049764 ,\n",
              "       19.21066  , 29.809332 , 24.665588 ,  8.745455 , 20.101505 ,\n",
              "       16.609077 , 24.603405 , 21.915796 , 25.179703 , 19.992685 ,\n",
              "       23.768332 , 17.162045 , 26.648186 , 14.560013 , 17.663338 ,\n",
              "       23.100437 , 20.329367 , 33.394356 , 13.964751 , 24.16163  ,\n",
              "       22.249384 , 43.043797 , 24.131899 , 43.843754 , 11.759051 ,\n",
              "       22.36322  , 46.19932  , 28.932625 , 24.901436 , 17.710028 ,\n",
              "       20.677296 , 19.705675 , 26.471304 , 30.033258 , 25.797907 ,\n",
              "       23.59053  , 13.198019 , 25.917772 , 26.946234 , 19.637291 ,\n",
              "       13.666628 , 25.97119  , 22.78259  , 20.430115 , 18.860151 ,\n",
              "       27.610163 , 25.664007 , 19.36454  ,  8.297323 , 14.020385 ,\n",
              "       14.3069   , 29.486885 , 37.36553  , 13.744239 , 43.283257 ,\n",
              "       23.84587  , 38.952576 , 20.664352 , 22.57927  , 18.710625 ,\n",
              "       27.927076 , 23.375553 , 20.95508  , 19.140125 , 17.933376 ,\n",
              "       49.76534  , 19.243279 , 18.777578 , 21.225508 , 42.884674 ,\n",
              "       22.413698 , 16.019148 , 27.360142 , 20.151388 , 30.939892 ,\n",
              "       14.28671  , 25.052082 , 19.283024 , 16.238092 , 18.072874 ,\n",
              "       33.9985   , 11.759051 , 19.546219 , 23.911112 , 18.942707 ,\n",
              "       34.45404  , 15.646291 , 13.78729  , 20.848877 ], dtype=float32)"
            ]
          },
          "metadata": {
            "tags": []
          },
          "execution_count": 20
        }
      ]
    },
    {
      "cell_type": "code",
      "metadata": {
        "colab": {
          "base_uri": "https://localhost:8080/"
        },
        "id": "5ehz8JuiZbz4",
        "outputId": "742073de-d58d-46e0-cc17-ca757bad548d"
      },
      "source": [
        "print('R squared error: ', metrics.r2_score(Y_train, training_pred))"
      ],
      "execution_count": 21,
      "outputs": [
        {
          "output_type": "stream",
          "text": [
            "R squared error:  0.9706172665471723\n"
          ],
          "name": "stdout"
        }
      ]
    },
    {
      "cell_type": "code",
      "metadata": {
        "colab": {
          "base_uri": "https://localhost:8080/",
          "height": 295
        },
        "id": "Z-TyWR6IaHNQ",
        "outputId": "eb923aed-3ba7-4c52-99e5-0f89bacede8d"
      },
      "source": [
        "plt.scatter(Y_train, training_pred, color=\"green\")\n",
        "plt.xlabel(\"Actual Prices\")\n",
        "plt.ylabel(\"Predicted Prices\")\n",
        "plt.title(\"Actual Price vs Predicted Price\")\n",
        "plt.show()"
      ],
      "execution_count": 22,
      "outputs": [
        {
          "output_type": "display_data",
          "data": {
            "image/png": "[encoded data removed]",
            "text/plain": [
              "<Figure size 432x288 with 1 Axes>"
            ]
          },
          "metadata": {
            "tags": [],
            "needs_background": "light"
          }
        }
      ]
    },
    {
      "cell_type": "code",
      "metadata": {
        "colab": {
          "base_uri": "https://localhost:8080/"
        },
        "id": "BL_ZldngaSD_",
        "outputId": "6b264b22-2a01-4da6-cdbb-030e009c2051"
      },
      "source": [
        "#PREDICTION ON TESTING DATA\n",
        "test_pred=model.predict(X_test)\n",
        "test_pred"
      ],
      "execution_count": 23,
      "outputs": [
        {
          "output_type": "execute_result",
          "data": {
            "text/plain": [
              "array([43.059864 , 20.36132  , 21.645489 , 23.144718 , 19.006845 ,\n",
              "       33.826477 , 21.528084 , 21.440983 , 15.031532 , 18.340132 ,\n",
              "        9.417543 , 25.673674 , 19.83355  , 18.579021 , 50.048107 ,\n",
              "       15.490002 , 14.865812 , 33.111904 , 23.433273 , 23.315428 ,\n",
              "       10.4734955, 23.147707 , 20.227314 , 17.321419 , 20.953154 ,\n",
              "        9.00492  , 20.763391 , 24.442747 , 32.769783 , 23.309238 ,\n",
              "       43.875275 , 31.199774 , 23.78004  , 21.738838 , 14.862709 ,\n",
              "       24.295088 , 31.615002 , 20.850588 , 12.092069 , 21.387405 ,\n",
              "       20.903059 , 21.865185 , 10.163226 , 22.344366 , 19.800488 ,\n",
              "       21.000645 , 14.73365  , 12.977146 , 20.967825 , 19.218668 ,\n",
              "       19.45718  , 17.150894 , 13.729329 , 22.788452 , 24.766987 ,\n",
              "       23.40167  , 25.365692 , 20.245882 , 19.199234 , 20.394278 ,\n",
              "       19.984882 , 31.7554   , 13.474978 , 28.450642 , 18.258125 ,\n",
              "       21.0119   , 14.656024 , 25.409632 , 23.106207 ,  7.6437707,\n",
              "       19.210493 , 22.708622 , 24.19004  , 16.693045 , 42.330173 ,\n",
              "       17.873747 , 21.021395 , 27.321533 , 18.319332 , 41.81884  ,\n",
              "       19.994278 , 19.00711  , 20.209257 , 23.517263 , 10.708893 ,\n",
              "        8.722636 , 13.570356 ,  8.290127 , 17.079971 , 16.648907 ,\n",
              "       25.984982 , 24.91653  , 18.76175  , 27.66975  , 18.79379  ,\n",
              "       18.871815 , 35.243084 , 31.969547 , 16.226147 , 34.364456 ,\n",
              "       34.518425 ,  9.122132 ], dtype=float32)"
            ]
          },
          "metadata": {
            "tags": []
          },
          "execution_count": 23
        }
      ]
    },
    {
      "cell_type": "code",
      "metadata": {
        "colab": {
          "base_uri": "https://localhost:8080/"
        },
        "id": "_69V_qFQaSKL",
        "outputId": "cbb52d5b-b7cf-44dc-e2cd-c1a1e556b9bc"
      },
      "source": [
        "print('R squared error: ', metrics.r2_score(Y_test, test_pred))"
      ],
      "execution_count": 24,
      "outputs": [
        {
          "output_type": "stream",
          "text": [
            "R squared error:  0.8953339818584981\n"
          ],
          "name": "stdout"
        }
      ]
    }
  ]
}